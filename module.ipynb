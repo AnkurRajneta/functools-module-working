{
 "cells": [
  {
   "cell_type": "code",
   "execution_count": 1,
   "metadata": {},
   "outputs": [
    {
     "name": "stdout",
     "output_type": "stream",
     "text": [
      "16\n",
      "32768\n",
      "6561\n"
     ]
    }
   ],
   "source": [
    "from functools import partial\n",
    "\n",
    "def galaxy(a,b):\n",
    "    return a ** b\n",
    "play = partial(galaxy, b = 4)\n",
    "play1 =partial(galaxy,b=5)\n",
    "play2 =partial(galaxy,b=8)\n",
    "\n",
    "print(play(2))\n",
    "print(play1(8))\n",
    "print(play2(3))\n"
   ]
  }
 ],
 "metadata": {
  "kernelspec": {
   "display_name": "Python 3",
   "language": "python",
   "name": "python3"
  },
  "language_info": {
   "codemirror_mode": {
    "name": "ipython",
    "version": 3
   },
   "file_extension": ".py",
   "mimetype": "text/x-python",
   "name": "python",
   "nbconvert_exporter": "python",
   "pygments_lexer": "ipython3",
   "version": "3.10.5"
  },
  "orig_nbformat": 4,
  "vscode": {
   "interpreter": {
    "hash": "26de051ba29f2982a8de78e945f0abaf191376122a1563185a90213a26c5da77"
   }
  }
 },
 "nbformat": 4,
 "nbformat_minor": 2
}
